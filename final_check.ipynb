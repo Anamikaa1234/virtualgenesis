{
  "nbformat": 4,
  "nbformat_minor": 0,
  "metadata": {
    "colab": {
      "name": "final_check.ipynb",
      "provenance": [],
      "collapsed_sections": [],
      "toc_visible": true,
      "authorship_tag": "ABX9TyMwR0TVjpQwY7+r4KLJdbNx",
      "include_colab_link": true
    },
    "kernelspec": {
      "name": "python3",
      "display_name": "Python 3"
    }
  },
  "cells": [
    {
      "cell_type": "markdown",
      "metadata": {
        "id": "view-in-github",
        "colab_type": "text"
      },
      "source": [
        "<a href=\"https://colab.research.google.com/github/Anamikaa1234/virtualgenesis/blob/master/final_check.ipynb\" target=\"_parent\"><img src=\"https://colab.research.google.com/assets/colab-badge.svg\" alt=\"Open In Colab\"/></a>"
      ]
    },
    {
      "cell_type": "code",
      "metadata": {
        "id": "eS_TWSx3EIWk",
        "colab_type": "code",
        "colab": {
          "base_uri": "https://localhost:8080/",
          "height": 292
        },
        "outputId": "ad6c1b14-0866-495d-dd0f-7754e26ada82"
      },
      "source": [
        "pip install gmplot"
      ],
      "execution_count": 1,
      "outputs": [
        {
          "output_type": "stream",
          "text": [
            "Collecting gmplot\n",
            "\u001b[?25l  Downloading https://files.pythonhosted.org/packages/e2/b1/e1429c31a40b3ef5840c16f78b506d03be9f27e517d3870a6fd0b356bd46/gmplot-1.2.0.tar.gz (115kB)\n",
            "\r\u001b[K     |██▉                             | 10kB 13.8MB/s eta 0:00:01\r\u001b[K     |█████▊                          | 20kB 1.8MB/s eta 0:00:01\r\u001b[K     |████████▌                       | 30kB 2.7MB/s eta 0:00:01\r\u001b[K     |███████████▍                    | 40kB 1.7MB/s eta 0:00:01\r\u001b[K     |██████████████▏                 | 51kB 2.2MB/s eta 0:00:01\r\u001b[K     |█████████████████               | 61kB 2.6MB/s eta 0:00:01\r\u001b[K     |████████████████████            | 71kB 3.0MB/s eta 0:00:01\r\u001b[K     |██████████████████████▊         | 81kB 3.4MB/s eta 0:00:01\r\u001b[K     |█████████████████████████▋      | 92kB 3.8MB/s eta 0:00:01\r\u001b[K     |████████████████████████████▍   | 102kB 2.9MB/s eta 0:00:01\r\u001b[K     |███████████████████████████████▎| 112kB 2.9MB/s eta 0:00:01\r\u001b[K     |████████████████████████████████| 122kB 2.9MB/s \n",
            "\u001b[?25hRequirement already satisfied: requests in /usr/local/lib/python3.6/dist-packages (from gmplot) (2.21.0)\n",
            "Requirement already satisfied: idna<2.9,>=2.5 in /usr/local/lib/python3.6/dist-packages (from requests->gmplot) (2.8)\n",
            "Requirement already satisfied: certifi>=2017.4.17 in /usr/local/lib/python3.6/dist-packages (from requests->gmplot) (2019.11.28)\n",
            "Requirement already satisfied: chardet<3.1.0,>=3.0.2 in /usr/local/lib/python3.6/dist-packages (from requests->gmplot) (3.0.4)\n",
            "Requirement already satisfied: urllib3<1.25,>=1.21.1 in /usr/local/lib/python3.6/dist-packages (from requests->gmplot) (1.24.3)\n",
            "Building wheels for collected packages: gmplot\n",
            "  Building wheel for gmplot (setup.py) ... \u001b[?25l\u001b[?25hdone\n",
            "  Created wheel for gmplot: filename=gmplot-1.2.0-cp36-none-any.whl size=143765 sha256=e86a8c32830036b0c59bf5df4671b6a6e2f2cc03e1222950979775cbae1804b4\n",
            "  Stored in directory: /root/.cache/pip/wheels/81/6a/76/4dd6a7cc310ba765894159ee84871e8cd55221d82ef14b81a1\n",
            "Successfully built gmplot\n",
            "Installing collected packages: gmplot\n",
            "Successfully installed gmplot-1.2.0\n"
          ],
          "name": "stdout"
        }
      ]
    },
    {
      "cell_type": "code",
      "metadata": {
        "id": "KkBNtJXXYzg3",
        "colab_type": "code",
        "colab": {}
      },
      "source": [
        "import pandas as pd\n",
        "import numpy as np\n",
        "import gmplot\n",
        "import matplotlib.pyplot as plt\n",
        "import math\n",
        "import sys\n"
      ],
      "execution_count": 0,
      "outputs": []
    },
    {
      "cell_type": "code",
      "metadata": {
        "id": "4rxy4z_LE9hG",
        "colab_type": "code",
        "colab": {}
      },
      "source": [
        "data = pd.read_csv(\"Data.csv\")\n",
        "df = pd.DataFrame(data)\n",
        "print(df)\n",
        "\n",
        "\n",
        "def Pothole_Detection():\n",
        "    threshold_Pot = 7\n",
        "    pothole = []\n",
        "    pothole_Min = []\n",
        "    longitude_Rd = []\n",
        "    latitude_Rd = []\n",
        "    km1 = []\n",
        "    km = data[\"Kilometers Per Litre(Long Term Average)(kpl)\"]\n",
        "    Pot_Hole = data[\" G(z)\"]\n",
        "    print(Pot_Hole)\n",
        "    latitude = list(data.iloc[:, 3])\n",
        "    longitude = list(data.iloc[:, 2])\n",
        "    for i in range(len(latitude)):\n",
        "        if latitude == ' Latitude ':\n",
        "            longitude[i] = ' 78.50117404 '\n",
        "            latitude[i] = ' 17.44283522 '\n",
        "    for i in range(len(Pot_Hole)):\n",
        "        if Pot_Hole[i] == ' G(z) ':\n",
        "            Pot_Hole[i] = ' 0 '\n",
        "    for i in range(len(Pot_Hole)):\n",
        "        pothole.append(float(Pot_Hole[i]))\n",
        "    print(pothole)\n",
        "    for i in range(len(pothole)):\n",
        "        if pothole[i] < threshold_Pot:\n",
        "            pothole_Min.append(pothole[i])\n",
        "            longitude_Rd.append(float(longitude[i]))\n",
        "            latitude_Rd.append(float(latitude[i]))\n",
        "            km1.append(km[i])\n",
        "    gmap3 = gmplot.GoogleMapPlotter(17.45305, 78.48587, 13) \n",
        "    gmap3.scatter(latitude_Rd, longitude_Rd, '# FF0000', size=50, marker=False) \n",
        "    gmap3.plot(latitude_Rd, longitude_Rd, ' cornflowerblue ', edge_width=4.5) \n",
        "    gmap3.draw(\"map.html\")  \n",
        "    return \n",
        "\n",
        "\n",
        "def Parking_Location():\n",
        "    longitude_pt = []\n",
        "    latitude_pt = []\n",
        "    speed = list(data.iloc[:, -17])\n",
        "    longitude = list(data.iloc[:, 2])\n",
        "    latitude = list(data.iloc[:, 3])\n",
        "    time = list(data.iloc[:, 1])\n",
        "    for i in range(len(speed)):\n",
        "        if(speed[i] == 0):\n",
        "            longitude_pt.append(longitude[i])\n",
        "            latitude_pt.append(latitude[i])\n",
        "    gmap3 = gmplot.GoogleMapPlotter(17.45305, 78.48587, 14) \n",
        "    gmap3.scatter(latitude_pt, longitude_pt, '# FF0000', \n",
        "                  size=50, marker=False) \n",
        "    gmap3.plot(latitude_pt, longitude_pt, 'cornflowerblue', edge_width=4.5) \n",
        "    gmap3.draw(\"map1.html\")\n",
        "\n",
        "\n",
        "def Emission_Area():\n",
        "    Emission_Prone_Area = []\n",
        "    time1 = []\n",
        "    Emission_Of_Co2 = list(data.iloc[:, 27])\n",
        "    time = list(data.iloc[:, -8])\n",
        "    print(Emission_Of_Co2)\n",
        "    for i in range(len(Emission_Of_Co2)):\n",
        "        if Emission_Of_Co2[i] == '-':\n",
        "            Emission_Of_Co2[i] = '0'\n",
        "        if (float(Emission_Of_Co2[i]) > 210.0):\n",
        "            Emission_Prone_Area.append(Emission_Of_Co2[i])\n",
        "            time1.append(time[i])\n",
        "    print(\"\\nArea with more CO2 emission and more traffic:\")\n",
        "    print(Emission_Prone_Area)\n",
        "    plt.scatter(time1, Emission_Prone_Area, color='green') \n",
        "    plt.xlabel(' time(sec) ')\n",
        "    plt.ylabel(' pollutted area ')\n",
        "    plt.title('polluted area')\n",
        "    plt.legend()\n",
        "    plt.show() \n",
        "    return\n",
        "\n",
        "\n",
        "def Steep_Slope():\n",
        "    steep_area = []\n",
        "    time2 = []\n",
        "    acceleration_z = list(data.iloc[:, 17])\n",
        "    time = list(data.iloc[:, 1])\n",
        "    print(\"Steep slope detection\")\n",
        "    for i in range(len(acceleration_z)):\n",
        "        if (float(acceleration_z[i]) > 1.0):\n",
        "            steep_area.append(acceleration_z[i])\n",
        "            time2.append(time[i])\n",
        "\n",
        "    print(\"Area prone to accident with Steep Slope\")\n",
        "    print(steep_area)\n",
        "    plt.scatter(time2, steep_area, color='b') \n",
        "    plt.xlabel(' time(sec) ')\n",
        "    plt.ylabel(' Steep Area ')\n",
        "    plt.title(' Area With Steep slope ')\n",
        "    plt.legend()\n",
        "    plt.show()\n",
        "    return\n",
        "  \n",
        "  \n",
        "\n"
      ],
      "execution_count": 0,
      "outputs": []
    },
    {
      "cell_type": "code",
      "metadata": {
        "id": "DowN_NO42dTo",
        "colab_type": "code",
        "colab": {}
      },
      "source": [
        "def main():\n",
        "    command = \" \"\n",
        "    command = input(\">\").lower()\n",
        "    if command == \"pothole\":\n",
        "        Pothole_Detection()\n",
        "    elif command == \"parking\":\n",
        "        Parking_Location()\n",
        "    elif command == \"emission\":\n",
        "        Emission_Area()\n",
        "    elif command == \"steep\":\n",
        "        Steep_Slope()\n",
        "    elif command == \"help\":\n",
        "        print(\"\"\"\n",
        "        pothole-To detect the pothole location\n",
        "        parking-to find car parking location\n",
        "        emission-find CO2 emission\n",
        "        steep-to find steep area\"\"\")\n",
        "    return\n",
        "\n",
        "if __name__ == '__main__':\n",
        "    main()\n"
      ],
      "execution_count": 0,
      "outputs": []
    }
  ]
}